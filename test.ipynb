{
 "cells": [
  {
   "cell_type": "code",
   "execution_count": 3,
   "metadata": {},
   "outputs": [
    {
     "data": {
      "text/plain": [
       "<matplotlib.image.AxesImage at 0x7f711e7e2810>"
      ]
     },
     "execution_count": 3,
     "metadata": {},
     "output_type": "execute_result"
    },
    {
     "data": {
      "image/png": "[encoded data removed]",
      "text/plain": [
       "<Figure size 640x480 with 1 Axes>"
      ]
     },
     "metadata": {},
     "output_type": "display_data"
    }
   ],
   "source": [
    "import matplotlib.pyplot as plt\n",
    "import cv2\n",
    "import numpy as np\n",
    "from PIL import Image as pil\n",
    "from PIL import Image\n",
    "from pkg_resources import parse_version\n",
    "if parse_version(pil.__version__)>=parse_version('10.0.0'):\n",
    "    Image.ANTIALIAS=Image.LANCZOS\n",
    "\n",
    "import warnings\n",
    "warnings.filterwarnings(\"ignore\")\n",
    "\n",
    "from vietocr.tool.predictor import Predictor\n",
    "from vietocr.tool.config import Cfg\n",
    "\n",
    "def maximize_contrast(imgGrayscale):\n",
    "\t#Làm cho độ tương phản lớn nhất \n",
    "\theight, width = imgGrayscale.shape[:2]\n",
    "\t\n",
    "\timgTopHat = np.zeros((height, width, 1), np.uint8)\n",
    "\timgBlackHat = np.zeros((height, width, 1), np.uint8)\n",
    "\tstructuringElement = cv2.getStructuringElement(cv2.MORPH_RECT, (2, 2)) #tạo bộ lọc kernel\n",
    "\t\n",
    "\timgTopHat = cv2.morphologyEx(imgGrayscale, cv2.MORPH_TOPHAT, structuringElement, iterations = 5) #nổi bật chi tiết sáng trong nền tối\n",
    "\t#cv2.imwrite(\"tophat.jpg\",imgTopHat)\n",
    "\timgBlackHat = cv2.morphologyEx(imgGrayscale, cv2.MORPH_BLACKHAT, structuringElement, iterations = 15) #Nổi bật chi tiết tối trong nền sáng\n",
    "\t#cv2.imwrite(\"blackhat.jpg\",imgBlackHat)\n",
    "\timgGrayscalePlusTopHat = cv2.add(imgGrayscale, imgTopHat) \n",
    "\timgGrayscalePlusTopHatMinusBlackHat = cv2.subtract(imgGrayscalePlusTopHat, imgBlackHat)\n",
    "\n",
    "\t#Kết quả cuối là ảnh đã tăng độ tương phản \n",
    "\treturn imgGrayscalePlusTopHatMinusBlackHat\n",
    "\n",
    "def remove_noise(img):\n",
    "    img = cv2.cvtColor(img, cv2.COLOR_BGR2GRAY)\n",
    "    img = maximize_contrast(img)\n",
    "\n",
    "    _, blackAndWhite = cv2.threshold(img, 127, 255, cv2.THRESH_BINARY_INV + cv2.THRESH_OTSU)\n",
    "\n",
    "    kernel = np.ones((2,3),np.uint8)\n",
    "    blackAndWhite = cv2.dilate(blackAndWhite, np.ones((2,3),np.uint8), iterations=1)\n",
    "    blackAndWhite = cv2.erode(blackAndWhite, kernel, iterations=1)\n",
    "    blackAndWhite = cv2.dilate(blackAndWhite, np.ones((2,3),np.uint8), iterations=1)\n",
    "    blackAndWhite = cv2.erode(blackAndWhite, kernel, iterations=1)\n",
    "    blackAndWhite = cv2.dilate(blackAndWhite, np.ones((1,2),np.uint8), iterations=1)\n",
    "\n",
    "    nlabels, labels, stats, centroids = cv2.connectedComponentsWithStats(blackAndWhite, None, None, None, 8, cv2.CV_32S)\n",
    "    sizes = stats[1:, -1] #get CC_STAT_AREA component\n",
    "    img2 = np.zeros((labels.shape), np.uint8)\n",
    "\n",
    "    for i in range(0, nlabels - 1):\n",
    "        if sizes[i] >= 19:   #filter small dotted regions\n",
    "            img2[labels == i + 1] = 255\n",
    "\n",
    "    res = cv2.bitwise_not(img2)\n",
    "    kernel1 = np.ones((2,2),np.uint8)\n",
    "    res = cv2.morphologyEx(res, cv2.MORPH_OPEN, kernel1)\n",
    "\n",
    "    res = cv2.GaussianBlur(res,(3,3),2)\n",
    "\n",
    "    return res\n",
    "\n",
    "img = cv2.imread('img3.png')\n",
    "img = remove_noise(img)\n",
    "plt.imshow(cv2.cvtColor(img, cv2.COLOR_GRAY2RGB))"
   ]
  },
  {
   "cell_type": "code",
   "execution_count": 131,
   "metadata": {},
   "outputs": [
    {
     "name": "stdout",
     "output_type": "stream",
     "text": [
      "Số 100 TP.\n"
     ]
    },
    {
     "data": {
      "image/png": "[encoded data removed]",
      "text/plain": [
       "<Figure size 640x480 with 1 Axes>"
      ]
     },
     "metadata": {},
     "output_type": "display_data"
    }
   ],
   "source": [
    "import cv2\n",
    "import numpy as np\n",
    "from PIL import Image as pil\n",
    "from PIL import Image\n",
    "from pkg_resources import parse_version\n",
    "if parse_version(pil.__version__)>=parse_version('10.0.0'):\n",
    "    Image.ANTIALIAS=Image.LANCZOS\n",
    "\n",
    "import warnings\n",
    "warnings.filterwarnings(\"ignore\")\n",
    "\n",
    "from vietocr.tool.predictor import Predictor\n",
    "from vietocr.tool.config import Cfg\n",
    "\n",
    "def maximize_contrast(imgGrayscale):\n",
    "\t#Làm cho độ tương phản lớn nhất \n",
    "\theight, width = imgGrayscale.shape[:2]\n",
    "\t\n",
    "\timgTopHat = np.zeros((height, width, 1), np.uint8)\n",
    "\timgBlackHat = np.zeros((height, width, 1), np.uint8)\n",
    "\tstructuringElement = cv2.getStructuringElement(cv2.MORPH_RECT, (2, 2)) #tạo bộ lọc kernel\n",
    "\t\n",
    "\timgTopHat = cv2.morphologyEx(imgGrayscale, cv2.MORPH_TOPHAT, structuringElement, iterations = 5) #nổi bật chi tiết sáng trong nền tối\n",
    "\t#cv2.imwrite(\"tophat.jpg\",imgTopHat)\n",
    "\timgBlackHat = cv2.morphologyEx(imgGrayscale, cv2.MORPH_BLACKHAT, structuringElement, iterations = 15) #Nổi bật chi tiết tối trong nền sáng\n",
    "\t#cv2.imwrite(\"blackhat.jpg\",imgBlackHat)\n",
    "\timgGrayscalePlusTopHat = cv2.add(imgGrayscale, imgTopHat) \n",
    "\timgGrayscalePlusTopHatMinusBlackHat = cv2.subtract(imgGrayscalePlusTopHat, imgBlackHat)\n",
    "\n",
    "\t#Kết quả cuối là ảnh đã tăng độ tương phản \n",
    "\treturn imgGrayscalePlusTopHatMinusBlackHat\n",
    "\n",
    "def remove_noise(img):\n",
    "    img = cv2.cvtColor(img, cv2.COLOR_BGR2GRAY)\n",
    "    # img = maximize_contrast(img)\n",
    "\n",
    "    _, blackAndWhite = cv2.threshold(img, 127, 255, cv2.THRESH_BINARY_INV + cv2.THRESH_OTSU)\n",
    "\n",
    "    blackAndWhite = cv2.dilate(blackAndWhite, np.ones((2,2),np.uint8), iterations=1)\n",
    "    blackAndWhite = cv2.erode(blackAndWhite, np.ones((2,2),np.uint8), iterations=1)\n",
    "    blackAndWhite = cv2.dilate(blackAndWhite, np.ones((1,2),np.uint8), iterations=1)\n",
    "\n",
    "    nlabels, labels, stats, centroids = cv2.connectedComponentsWithStats(blackAndWhite, None, None, None, 8, cv2.CV_32S)\n",
    "    sizes = stats[1:, -1] #get CC_STAT_AREA component\n",
    "    img2 = np.zeros((labels.shape), np.uint8)\n",
    "\n",
    "    for i in range(0, nlabels - 1):\n",
    "        if sizes[i] >= 19:   #filter small dotted regions\n",
    "            img2[labels == i + 1] = 255\n",
    "\n",
    "    res = cv2.bitwise_not(img2)\n",
    "    kernel1 = np.ones((2,2),np.uint8)\n",
    "    res = cv2.morphologyEx(res, cv2.MORPH_OPEN, kernel1)\n",
    "\n",
    "    res = cv2.GaussianBlur(res,(3,3),2)\n",
    "\n",
    "    return res\n",
    "\n",
    "class OCRModel(object):\n",
    "    def __init__(self, weight_path=None):\n",
    "        if weight_path != None:\n",
    "            self.weight_path = weight_path\n",
    "        else:\n",
    "            self.weight_path = \"vietocr_model/weights/vgg_transformer_default.pth\"\n",
    "\n",
    "        # self.config = Cfg.load_config_from_name('vgg_transformer')\n",
    "        self.config = Cfg.load_config_from_file('vietocr_model/config.yml')\n",
    "        self.config['weights'] = self.weight_path\n",
    "        self.config['cnn']['pretrained']=False\n",
    "        self.config['device'] = 'cpu'\n",
    "        self.config['predictor'].update({'beamsearch': True})\n",
    "\n",
    "        self.detector = Predictor(self.config)\n",
    "\n",
    "    def recognize(self, img):\n",
    "        s = self.detector.predict(Image.fromarray(img), return_prob=False)\n",
    "        return s\n",
    "\n",
    "\n",
    "\n",
    "ocr = OCRModel(\"vietocr_model/weights/transformerocr_custom.pth\")\n",
    "# ocr = OCRModel()\n",
    "img = Image.open('img1.png')\n",
    "img = remove_noise(np.array(img))\n",
    "plt.imshow(img)\n",
    "s = ocr.recognize(np.array(img))\n",
    "print(s)\n"
   ]
  }
 ],
 "metadata": {
  "kernelspec": {
   "display_name": "ai-env",
   "language": "python",
   "name": "python3"
  },
  "language_info": {
   "codemirror_mode": {
    "name": "ipython",
    "version": 3
   },
   "file_extension": ".py",
   "mimetype": "text/x-python",
   "name": "python",
   "nbconvert_exporter": "python",
   "pygments_lexer": "ipython3",
   "version": "3.11.2"
  }
 },
 "nbformat": 4,
 "nbformat_minor": 2
}
