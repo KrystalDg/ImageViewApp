{
  "cells": [
    {
      "cell_type": "markdown",
      "metadata": {
        "colab_type": "text",
        "id": "view-in-github"
      },
      "source": [
        "<a href=\"https://colab.research.google.com/github/pbcquoc/vietocr/blob/master/vietocr_gettingstart.ipynb\" target=\"_parent\"><img src=\"https://colab.research.google.com/assets/colab-badge.svg\" alt=\"Open In Colab\"/></a>"
      ]
    },
    {
      "cell_type": "markdown",
      "metadata": {
        "id": "uPgu4i1yvhub"
      },
      "source": [
        "\n",
        "# Introduction\n",
        "<p align=\"center\">\n",
        "<img src=\"https://raw.githubusercontent.com/pbcquoc/vietocr/master/image/vietocr.jpg\" width=\"512\" height=\"512\">\n",
        "</p>\n",
        "This notebook describe how you can use VietOcr to train OCR model\n",
        "\n",
        "\n"
      ]
    },
    {
      "cell_type": "code",
      "execution_count": null,
      "metadata": {
        "colab": {
          "base_uri": "https://localhost:8080/"
        },
        "id": "xEBHav_aljVN",
        "outputId": "764046f5-5629-4840-b75a-531187e72452"
      },
      "outputs": [],
      "source": [
        "# ! pip install --quiet vietocr"
      ]
    },
    {
      "cell_type": "markdown",
      "metadata": {
        "id": "IS1cz5tKxio7"
      },
      "source": [
        "# Inference"
      ]
    },
    {
      "cell_type": "code",
      "execution_count": 20,
      "metadata": {
        "id": "KsuT5Sa-xio8"
      },
      "outputs": [],
      "source": [
        "import matplotlib.pyplot as plt\n",
        "from PIL import Image as pil\n",
        "from pkg_resources import parse_version\n",
        "if parse_version(pil.__version__)>=parse_version('10.0.0'):\n",
        "    Image.ANTIALIAS=Image.LANCZOS\n",
        "\n",
        "\n",
        "from vietocr.tool.predictor import Predictor\n",
        "from vietocr.tool.config import Cfg"
      ]
    },
    {
      "cell_type": "code",
      "execution_count": 15,
      "metadata": {
        "id": "J7u5QgLWxipC"
      },
      "outputs": [],
      "source": [
        "config = Cfg.load_config_from_name('vgg_transformer')"
      ]
    },
    {
      "cell_type": "markdown",
      "metadata": {
        "id": "S5JIpythxipL"
      },
      "source": [
        "Change weights to your weights or using default weights from our pretrained model. Path can be url or local file"
      ]
    },
    {
      "cell_type": "code",
      "execution_count": 16,
      "metadata": {
        "id": "UjiubW0gxipL"
      },
      "outputs": [],
      "source": [
        "# config['weights'] = './weights/transformerocr.pth'\n",
        "config['cnn']['pretrained']=False\n",
        "config['device'] = 'cpu'"
      ]
    },
    {
      "cell_type": "code",
      "execution_count": null,
      "metadata": {
        "colab": {
          "base_uri": "https://localhost:8080/"
        },
        "id": "HjHpH99TxipQ",
        "outputId": "34ad82f3-053e-4267-8ed8-51f3813351ec"
      },
      "outputs": [],
      "source": [
        "detector = Predictor(config)"
      ]
    },
    {
      "cell_type": "code",
      "execution_count": null,
      "metadata": {
        "colab": {
          "base_uri": "https://localhost:8080/"
        },
        "id": "BHtnhkpsxipZ",
        "outputId": "4895b51d-8f0e-4f06-bae4-d3f3455dfb58"
      },
      "outputs": [],
      "source": [
        "! wget https://vocr.vn/data/vietocr/sample.zip\n",
        "! unzip  -qq -o sample.zip"
      ]
    },
    {
      "cell_type": "code",
      "execution_count": null,
      "metadata": {
        "colab": {
          "base_uri": "https://localhost:8080/"
        },
        "id": "nGpmXki1xipe",
        "outputId": "c620d5a0-bb2c-404c-86b2-11fb02989167"
      },
      "outputs": [],
      "source": [
        "! ls sample | shuf |head -n 5"
      ]
    },
    {
      "cell_type": "code",
      "execution_count": 22,
      "metadata": {
        "colab": {
          "base_uri": "https://localhost:8080/",
          "height": 134
        },
        "id": "B95BBXNExipj",
        "outputId": "9a502cf7-3fcb-40e6-ff52-18f901d8b540"
      },
      "outputs": [
        {
          "data": {
            "text/plain": [
              "'Dương Tân Minh'"
            ]
          },
          "execution_count": 22,
          "metadata": {},
          "output_type": "execute_result"
        },
        {
          "data": {
            "image/png": "[encoded data removed]",
            "text/plain": [
              "<Figure size 640x480 with 1 Axes>"
            ]
          },
          "metadata": {},
          "output_type": "display_data"
        }
      ],
      "source": [
        "img = '../Untitled1.png'\n",
        "img = Image.open(img)\n",
        "plt.imshow(img)\n",
        "s = detector.predict(img)\n",
        "s"
      ]
    },
    {
      "cell_type": "markdown",
      "metadata": {
        "id": "O9zjgHwN2vuC"
      },
      "source": [
        "# Download sample dataset"
      ]
    },
    {
      "cell_type": "code",
      "execution_count": null,
      "metadata": {
        "colab": {
          "base_uri": "https://localhost:8080/"
        },
        "id": "kMMAabbInNe3",
        "outputId": "d5392602-06f8-44b3-8dc4-39baaf6b536a"
      },
      "outputs": [],
      "source": [
        "! wget https://vocr.vn/data/vietocr/data_line.zip"
      ]
    },
    {
      "cell_type": "code",
      "execution_count": null,
      "metadata": {
        "id": "ZEBWugoTnvy0"
      },
      "outputs": [],
      "source": [
        "! unzip -qq -o ./data_line.zip"
      ]
    },
    {
      "cell_type": "markdown",
      "metadata": {
        "id": "F1lxSkEj20y0"
      },
      "source": [
        "# Train model"
      ]
    },
    {
      "cell_type": "markdown",
      "metadata": {
        "id": "-MWgUSotv1sN"
      },
      "source": [
        "\n",
        "\n",
        "1.   Load your config\n",
        "2.   Train model using your dataset above\n",
        "\n"
      ]
    },
    {
      "cell_type": "markdown",
      "metadata": {
        "id": "BuzRB0rxwC3m"
      },
      "source": [
        "Load the default config, we adopt VGG for image feature extraction"
      ]
    },
    {
      "cell_type": "code",
      "execution_count": null,
      "metadata": {
        "id": "jMwREzEvm_jd"
      },
      "outputs": [],
      "source": [
        "from vietocr.tool.config import Cfg\n",
        "from vietocr.model.trainer import Trainer"
      ]
    },
    {
      "cell_type": "markdown",
      "metadata": {
        "id": "7oKRCu2ewNE4"
      },
      "source": [
        "# Change the config \n",
        "\n",
        "* *data_root*: the folder save your all images\n",
        "* *train_annotation*: path to train annotation\n",
        "* *valid_annotation*: path to valid annotation\n",
        "* *print_every*: show train loss at every n steps\n",
        "* *valid_every*: show validation loss at every n steps\n",
        "* *iters*: number of iteration to train your model\n",
        "* *export*: export weights to folder that you can use for inference\n",
        "* *metrics*: number of sample in validation annotation you use for computing full_sequence_accuracy, for large dataset it will take too long, then you can reuduce this number\n"
      ]
    },
    {
      "cell_type": "code",
      "execution_count": null,
      "metadata": {
        "id": "56VBD-Xy_ztj"
      },
      "outputs": [],
      "source": [
        "config = Cfg.load_config_from_name('vgg_transformer')"
      ]
    },
    {
      "cell_type": "code",
      "execution_count": null,
      "metadata": {
        "id": "ceKcT5eOnJ1G"
      },
      "outputs": [],
      "source": [
        "\n",
        "dataset_params = {\n",
        "    'name':'hw',\n",
        "    'data_root':'./data_line/',\n",
        "    'train_annotation':'train_line_annotation.txt',\n",
        "    'valid_annotation':'test_line_annotation.txt'\n",
        "}\n",
        "\n",
        "params = {\n",
        "         'print_every':200,\n",
        "         'valid_every':15*200,\n",
        "          'iters':20000,\n",
        "          'checkpoint':'./checkpoint/transformerocr_checkpoint.pth',    \n",
        "          'export':'./weights/transformerocr.pth',\n",
        "          'metrics': 10000\n",
        "         }\n",
        "\n",
        "config['trainer'].update(params)\n",
        "config['dataset'].update(dataset_params)\n",
        "config['device'] = 'cuda:0'"
      ]
    },
    {
      "cell_type": "markdown",
      "metadata": {
        "id": "Ufc86K0axiqN"
      },
      "source": [
        "you can change any of these params in this full list below"
      ]
    },
    {
      "cell_type": "code",
      "execution_count": null,
      "metadata": {
        "colab": {
          "base_uri": "https://localhost:8080/"
        },
        "id": "AwHpqqQEnHv1",
        "outputId": "77611a1a-80d0-43ed-9b3a-e765cf813bde"
      },
      "outputs": [],
      "source": [
        "config"
      ]
    },
    {
      "cell_type": "markdown",
      "metadata": {
        "id": "8dxTXpqa3Hd3"
      },
      "source": [
        "You should train model from our pretrained "
      ]
    },
    {
      "cell_type": "code",
      "execution_count": null,
      "metadata": {
        "colab": {
          "base_uri": "https://localhost:8080/"
        },
        "id": "xtOyT8Cpo1gl",
        "outputId": "a5ab22d9-2da0-4d02-f594-537e72c191e0"
      },
      "outputs": [],
      "source": [
        "trainer = Trainer(config, pretrained=True)"
      ]
    },
    {
      "cell_type": "markdown",
      "metadata": {
        "id": "qvG8aEOlBmVg"
      },
      "source": [
        "Save model configuration for inference, load_config_from_file"
      ]
    },
    {
      "cell_type": "code",
      "execution_count": null,
      "metadata": {
        "id": "Potem8SsojYM"
      },
      "outputs": [],
      "source": [
        "trainer.config.save('config.yml')"
      ]
    },
    {
      "cell_type": "markdown",
      "metadata": {
        "id": "gyL8nmmTxiqV"
      },
      "source": [
        "Visualize your dataset to check data augmentation is appropriate"
      ]
    },
    {
      "cell_type": "code",
      "execution_count": null,
      "metadata": {
        "colab": {
          "base_uri": "https://localhost:8080/",
          "height": 1000
        },
        "id": "OET9Vh8XxiqV",
        "outputId": "725badc9-41dd-404f-c2a3-78e3074d0af5"
      },
      "outputs": [],
      "source": [
        "trainer.visualize_dataset()"
      ]
    },
    {
      "cell_type": "markdown",
      "metadata": {
        "id": "6EkP2h64xiqZ"
      },
      "source": [
        "Train now"
      ]
    },
    {
      "cell_type": "code",
      "execution_count": null,
      "metadata": {
        "colab": {
          "base_uri": "https://localhost:8080/",
          "height": 338
        },
        "id": "fpZEz_DPpV6y",
        "outputId": "30034eea-73ef-4388-cea7-f8a35c6808e3"
      },
      "outputs": [],
      "source": [
        "trainer.train()"
      ]
    },
    {
      "cell_type": "markdown",
      "metadata": {
        "id": "Iig6gpyb3jtz"
      },
      "source": [
        "Visualize prediction from our trained model\n"
      ]
    },
    {
      "cell_type": "code",
      "execution_count": null,
      "metadata": {
        "id": "Zeai5W02qXA9"
      },
      "outputs": [],
      "source": [
        "trainer.visualize_prediction()"
      ]
    },
    {
      "cell_type": "markdown",
      "metadata": {
        "id": "-bAXlHJv3ryW"
      },
      "source": [
        "Compute full seq accuracy for full valid dataset"
      ]
    },
    {
      "cell_type": "code",
      "execution_count": null,
      "metadata": {
        "id": "eM806O42q_aT"
      },
      "outputs": [],
      "source": [
        "trainer.precision()"
      ]
    }
  ],
  "metadata": {
    "accelerator": "GPU",
    "colab": {
      "include_colab_link": true,
      "name": "vietocr_gettingstart.ipynb",
      "provenance": []
    },
    "kernelspec": {
      "display_name": "Python 3",
      "language": "python",
      "name": "python3"
    },
    "language_info": {
      "codemirror_mode": {
        "name": "ipython",
        "version": 3
      },
      "file_extension": ".py",
      "mimetype": "text/x-python",
      "name": "python",
      "nbconvert_exporter": "python",
      "pygments_lexer": "ipython3",
      "version": "3.11.2"
    }
  },
  "nbformat": 4,
  "nbformat_minor": 0
}
